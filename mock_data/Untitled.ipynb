{
 "cells": [
  {
   "cell_type": "code",
   "execution_count": 1,
   "id": "0eb87c5c-f59c-4bca-86ac-91efaf8146c0",
   "metadata": {},
   "outputs": [],
   "source": [
    "import numpy as np\n"
   ]
  },
  {
   "cell_type": "code",
   "execution_count": 3,
   "id": "a33f2080-e060-4ed0-ba55-74b4ab50a958",
   "metadata": {},
   "outputs": [
    {
     "data": {
      "text/plain": [
       "(500, 1200)"
      ]
     },
     "execution_count": 3,
     "metadata": {},
     "output_type": "execute_result"
    }
   ],
   "source": [
    "W = np.zeros((500,2000))\n",
    "M = np.zeros((2000,1200))\n",
    "np.shape(np.matmul(W,M))"
   ]
  },
  {
   "cell_type": "code",
   "execution_count": 15,
   "id": "43dde245-3fe8-4cd8-b7bf-b8ea4bb70303",
   "metadata": {},
   "outputs": [],
   "source": [
    "k_thy = np.linspace(0.0,0.5,500,endpoint=False) + 0.0005\n",
    "\n",
    "ko = np.loadtxt('k.txt')"
   ]
  },
  {
   "cell_type": "code",
   "execution_count": 74,
   "id": "09b11603-0a9a-4699-b01e-56ef4cda301b",
   "metadata": {},
   "outputs": [
    {
     "data": {
      "text/plain": [
       "array([[  8.24175824,  74.17582418, 206.04395604, ...,   0.        ,\n",
       "          0.        ,   0.        ],\n",
       "       [  0.        ,   0.        ,   0.        , ...,   0.        ,\n",
       "          0.        ,   0.        ],\n",
       "       [  0.        ,   0.        ,   0.        , ...,   0.        ,\n",
       "          0.        ,   0.        ],\n",
       "       ...,\n",
       "       [  0.        ,   0.        ,   0.        , ...,   0.        ,\n",
       "          0.        ,   0.        ],\n",
       "       [  0.        ,   0.        ,   0.        , ...,   0.        ,\n",
       "          0.        ,   0.        ],\n",
       "       [  0.        ,   0.        ,   0.        , ..., 249.99865324,\n",
       "        251.00468302, 252.01273294]])"
      ]
     },
     "execution_count": 74,
     "metadata": {},
     "output_type": "execute_result"
    }
   ],
   "source": [
    "k_thy = np.linspace(0.0,0.5,500,endpoint=False) + 0.0005\n",
    "\n",
    "ko = np.loadtxt('k.txt')\n",
    "\n",
    "Wmat = np.zeros((5*len(ko),3*len(k_thy)))\n",
    "w = np.zeros((len(ko),len(k_thy)))\n",
    "\n",
    "for i,ki in enumerate(ko):\n",
    "    norm = (1./3.)* ( (k_thy[5*i + 4])**3 - (k_thy[5*i])**3 )\n",
    "    for j in range(5):\n",
    "        w[i,5*i + j] = (k_thy[5*i + j]**2) / norm\n",
    "        \n",
    "for i,l in enumerate([0,2,4]):\n",
    "    Wmat[len(ko)*l:len(ko)*l + len(ko),len(k_thy)*i:len(k_thy)*i + len(k_thy)] = w\n",
    "Wmat"
   ]
  },
  {
   "cell_type": "code",
   "execution_count": 75,
   "id": "06e6486c-e102-4c33-a013-d99e0757187c",
   "metadata": {},
   "outputs": [],
   "source": [
    "Mmat = np.identity(5*len(ko))"
   ]
  },
  {
   "cell_type": "code",
   "execution_count": 70,
   "id": "78a6fe65-f639-473d-a49e-660c9a4cb8f3",
   "metadata": {},
   "outputs": [],
   "source": [
    "# with open('Wmat.txt', 'w', encoding='utf-8') as f:\n",
    "#     f.write('Hi EveryOne')\n",
    "\n",
    "mat = np.matrix(Wmat)\n",
    "    \n",
    "with open('Wmat.txt','wb') as f:\n",
    "    for line in mat:\n",
    "        np.savetxt(f, line, encoding='utf-8')"
   ]
  },
  {
   "cell_type": "code",
   "execution_count": 76,
   "id": "0c0560fe-4021-4f03-85d4-a4866e20d6e6",
   "metadata": {},
   "outputs": [],
   "source": [
    "mat = np.matrix(Mmat)\n",
    "    \n",
    "with open('Mmat.txt','wb') as f:\n",
    "    for line in mat:\n",
    "        np.savetxt(f, line, encoding='utf-8')"
   ]
  },
  {
   "cell_type": "code",
   "execution_count": 77,
   "id": "bfb4b33f-874e-46c5-b540-a78a8f2fb132",
   "metadata": {},
   "outputs": [
    {
     "data": {
      "text/plain": [
       "array([[1., 0., 0., ..., 0., 0., 0.],\n",
       "       [0., 1., 0., ..., 0., 0., 0.],\n",
       "       [0., 0., 1., ..., 0., 0., 0.],\n",
       "       ...,\n",
       "       [0., 0., 0., ..., 1., 0., 0.],\n",
       "       [0., 0., 0., ..., 0., 1., 0.],\n",
       "       [0., 0., 0., ..., 0., 0., 1.]])"
      ]
     },
     "execution_count": 77,
     "metadata": {},
     "output_type": "execute_result"
    }
   ],
   "source": [
    "Mtest = np.loadtxt('Mmat.txt')\n",
    "Mtest"
   ]
  },
  {
   "cell_type": "code",
   "execution_count": 78,
   "id": "f65a4abe-fdd3-45b5-b1e3-050ed8c17919",
   "metadata": {},
   "outputs": [
    {
     "data": {
      "text/plain": [
       "array([[  8.24175824,  74.17582418, 206.04395604, ...,   0.        ,\n",
       "          0.        ,   0.        ],\n",
       "       [  0.        ,   0.        ,   0.        , ...,   0.        ,\n",
       "          0.        ,   0.        ],\n",
       "       [  0.        ,   0.        ,   0.        , ...,   0.        ,\n",
       "          0.        ,   0.        ],\n",
       "       ...,\n",
       "       [  0.        ,   0.        ,   0.        , ...,   0.        ,\n",
       "          0.        ,   0.        ],\n",
       "       [  0.        ,   0.        ,   0.        , ...,   0.        ,\n",
       "          0.        ,   0.        ],\n",
       "       [  0.        ,   0.        ,   0.        , ..., 249.99865324,\n",
       "        251.00468302, 252.01273294]])"
      ]
     },
     "execution_count": 78,
     "metadata": {},
     "output_type": "execute_result"
    }
   ],
   "source": [
    "np.matmul(Mtest,Wmat)"
   ]
  },
  {
   "cell_type": "code",
   "execution_count": 36,
   "id": "ff62a3d5-bd39-4f2c-a4ad-5792420d5545",
   "metadata": {},
   "outputs": [
    {
     "data": {
      "text/plain": [
       "array([[5.39434859e-04, 6.78010346e+00, 2.68790467e+01, 0.00000000e+00,\n",
       "        0.00000000e+00, 0.00000000e+00, 0.00000000e+00, 0.00000000e+00,\n",
       "        0.00000000e+00],\n",
       "       [0.00000000e+00, 0.00000000e+00, 0.00000000e+00, 4.96706315e+00,\n",
       "        8.81713354e+00, 1.37644027e+01, 0.00000000e+00, 0.00000000e+00,\n",
       "        0.00000000e+00],\n",
       "       [0.00000000e+00, 0.00000000e+00, 0.00000000e+00, 0.00000000e+00,\n",
       "        0.00000000e+00, 0.00000000e+00, 6.57049287e+00, 8.93934421e+00,\n",
       "        1.16721303e+01]])"
      ]
     },
     "execution_count": 36,
     "metadata": {},
     "output_type": "execute_result"
    }
   ],
   "source": [
    "#test\n",
    "\n",
    "k_thy = np.linspace(0.0,0.5,9,endpoint=False) + 0.0005\n",
    "ko = np.linspace(0.0,0.5,3,endpoint=False) + 0.0005\n",
    "\n",
    "Wmat = np.zeros((5*len(ko),3*len(k_thy)))\n",
    "w = np.zeros((len(ko),len(k_thy)))\n",
    "\n",
    "for i,ki in enumerate(ko):\n",
    "    norm = (1./3.)* ( (k_thy[3*i + 2])**3 - (k_thy[3*i])**3 )\n",
    "    for j in range(3):\n",
    "        w[i,3*i + j] = (k_thy[3*i + j]**2) / norm\n",
    "        \n",
    "w"
   ]
  },
  {
   "cell_type": "code",
   "execution_count": null,
   "id": "7b346f4c-f7e3-4bb4-a81e-01c24b3651f1",
   "metadata": {},
   "outputs": [],
   "source": [
    "mat = np.matrix(Wmat)\n",
    "    \n",
    "with open('Wtest.txt','wb') as f:\n",
    "    for line in mat:\n",
    "        np.savetxt(f, line, encoding='utf-8')"
   ]
  }
 ],
 "metadata": {
  "kernelspec": {
   "display_name": "nersc_env",
   "language": "python",
   "name": "nersc_env"
  },
  "language_info": {
   "codemirror_mode": {
    "name": "ipython",
    "version": 3
   },
   "file_extension": ".py",
   "mimetype": "text/x-python",
   "name": "python",
   "nbconvert_exporter": "python",
   "pygments_lexer": "ipython3",
   "version": "3.9.7"
  }
 },
 "nbformat": 4,
 "nbformat_minor": 5
}
