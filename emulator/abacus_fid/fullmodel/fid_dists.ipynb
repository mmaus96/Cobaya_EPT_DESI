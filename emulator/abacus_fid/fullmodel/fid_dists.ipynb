{
 "cells": [
  {
   "cell_type": "code",
   "execution_count": 1,
   "id": "3fe15375-3419-44e1-8afd-7136dbe3acf3",
   "metadata": {},
   "outputs": [],
   "source": [
    "import numpy as np\n",
    "from classy import Class"
   ]
  },
  {
   "cell_type": "code",
   "execution_count": 3,
   "id": "e36b5e6b-3a1e-4e0c-ace4-93a47b9205ab",
   "metadata": {},
   "outputs": [],
   "source": [
    "def make_pkclass_dists(z):\n",
    "# Reference Cosmology:\n",
    "    omega_b = 0.02237\n",
    "    omega_cdm = 0.1200\n",
    "    As =  2.0830e-9\n",
    "    ns = 0.9649\n",
    "    h = 0.6736\n",
    "    speed_of_light = 2.99792458e5\n",
    "\n",
    "    nnu = 1\n",
    "    nur = 2.0328\n",
    "    # mnu = 0.06\n",
    "    omega_nu = 0.0006442 #0.0106 * mnu\n",
    "    # mnu = omega_nu / 0.0106\n",
    "\n",
    "    # omega_c = (OmegaM - omega_b/h**2 - omega_nu/h**2) * h**2\n",
    "\n",
    "    pkparams = {\n",
    "        'output': 'mPk',\n",
    "        'P_k_max_h/Mpc': 20.,\n",
    "        'z_pk': '0.0,10',\n",
    "        'A_s': As,\n",
    "        'n_s': ns,\n",
    "        'h': h,\n",
    "        'N_ur': nur,\n",
    "        'N_ncdm': nnu,\n",
    "        'omega_ncdm': omega_nu,\n",
    "        # 'm_ncdm': mnu,\n",
    "        'tau_reio': 0.0568,\n",
    "        'omega_b': omega_b,\n",
    "        'omega_cdm': omega_cdm}\n",
    "\n",
    "    pkclass = Class()\n",
    "    pkclass.set(pkparams)\n",
    "    pkclass.compute()\n",
    "    \n",
    "    Hz_fid = pkclass.Hubble(z) * speed_of_light / h # this H(z) in units km/s/(Mpc/h) = 100 * E(z)\n",
    "    chiz_fid = pkclass.angular_distance(z) * (1.+z) * h # this is the comoving radius in units of Mpc/h \n",
    "    fid_dists = (Hz_fid, chiz_fid)\n",
    "    return pkclass,fid_dists"
   ]
  },
  {
   "cell_type": "code",
   "execution_count": 5,
   "id": "44cfed3b-d877-41ae-9b4c-3699885e85ff",
   "metadata": {},
   "outputs": [
    {
     "data": {
      "text/plain": [
       "(<classy.Class at 0x555556ad5300>, (158.8636103097741, 1936.4324472069886))"
      ]
     },
     "execution_count": 5,
     "metadata": {},
     "output_type": "execute_result"
    }
   ],
   "source": [
    "make_pkclass_dists(z=0.8)"
   ]
  },
  {
   "cell_type": "code",
   "execution_count": 2,
   "id": "63f8c5c4-3c96-4736-8a7b-18be2fd4661f",
   "metadata": {},
   "outputs": [],
   "source": [
    "import json\n",
    "json_file = open('emu/boss_z_0.80_pkells_old.json', 'r')\n",
    "emu = json.load( json_file )\n",
    "json_file.close()"
   ]
  },
  {
   "cell_type": "code",
   "execution_count": 5,
   "id": "c562cded-d820-4054-82fb-f4bbddcf1cae",
   "metadata": {},
   "outputs": [
    {
     "data": {
      "text/plain": [
       "['omega_b', 'omega_cdm', 'h', 'sigma8']"
      ]
     },
     "execution_count": 5,
     "metadata": {},
     "output_type": "execute_result"
    }
   ],
   "source": [
    "emu['params'] = ['omega_b','omega_cdm', 'h', 'sigma8']\n",
    "emu['params']"
   ]
  },
  {
   "cell_type": "code",
   "execution_count": 6,
   "id": "d6176ff3-d4dc-4cc2-99bd-b1e9466249b0",
   "metadata": {},
   "outputs": [],
   "source": [
    "json_file = open('emu/boss_z_0.80_pkells.json', 'w')\n",
    "json.dump(emu, json_file)\n",
    "json_file.close()"
   ]
  },
  {
   "cell_type": "code",
   "execution_count": null,
   "id": "bd4f5616-1a1f-4bc2-a324-c09cff2f8ba8",
   "metadata": {},
   "outputs": [],
   "source": []
  }
 ],
 "metadata": {
  "kernelspec": {
   "display_name": "nersc_env",
   "language": "python",
   "name": "nersc_env"
  },
  "language_info": {
   "codemirror_mode": {
    "name": "ipython",
    "version": 3
   },
   "file_extension": ".py",
   "mimetype": "text/x-python",
   "name": "python",
   "nbconvert_exporter": "python",
   "pygments_lexer": "ipython3",
   "version": "3.9.7"
  }
 },
 "nbformat": 4,
 "nbformat_minor": 5
}
